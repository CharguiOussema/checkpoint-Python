{
 "cells": [
  {
   "cell_type": "markdown",
   "metadata": {},
   "source": [
    "# Question 1"
   ]
  },
  {
   "cell_type": "markdown",
   "metadata": {},
   "source": [
    "##### write a program which will find all such numbers which are divisible by 7 but are not a multiple of 5, between 2000 and 3200(both included) \n",
    "##### the numbers obtained should be printed in a list "
   ]
  },
  {
   "cell_type": "code",
   "execution_count": 5,
   "metadata": {},
   "outputs": [
    {
     "name": "stdout",
     "output_type": "stream",
     "text": [
      "[2002, 2009, 2016, 2023, 2037, 2044, 2051, 2058, 2072, 2079, 2086, 2093, 2107, 2114, 2121, 2128, 2142, 2149, 2156, 2163, 2177, 2184, 2191, 2198, 2212, 2219, 2226, 2233, 2247, 2254, 2261, 2268, 2282, 2289, 2296, 2303, 2317, 2324, 2331, 2338, 2352, 2359, 2366, 2373, 2387, 2394, 2401, 2408, 2422, 2429, 2436, 2443, 2457, 2464, 2471, 2478, 2492, 2499, 2506, 2513, 2527, 2534, 2541, 2548, 2562, 2569, 2576, 2583, 2597, 2604, 2611, 2618, 2632, 2639, 2646, 2653, 2667, 2674, 2681, 2688, 2702, 2709, 2716, 2723, 2737, 2744, 2751, 2758, 2772, 2779, 2786, 2793, 2807, 2814, 2821, 2828, 2842, 2849, 2856, 2863, 2877, 2884, 2891, 2898, 2912, 2919, 2926, 2933, 2947, 2954, 2961, 2968, 2982, 2989, 2996, 3003, 3017, 3024, 3031, 3038, 3052, 3059, 3066, 3073, 3087, 3094, 3101, 3108, 3122, 3129, 3136, 3143, 3157, 3164, 3171, 3178, 3192, 3199]\n"
     ]
    }
   ],
   "source": [
    "listeQ1=[]\n",
    "for i in range(2000,3200):\n",
    "    if (i%7==0) and (i%5!=0):\n",
    "        listeQ1.append(i)\n",
    "print(listeQ1)"
   ]
  },
  {
   "cell_type": "markdown",
   "metadata": {},
   "source": [
    "# Question 2"
   ]
  },
  {
   "cell_type": "markdown",
   "metadata": {},
   "source": [
    "##### write a program which can compute the factorial of a given number (the factorial of n is the product of all positive intefers less than or equal to n) for exemple factorial(5)= 5*4*3*2*1 the result is 120. (i.e. factorial(0)=1)"
   ]
  },
  {
   "cell_type": "code",
   "execution_count": 20,
   "metadata": {},
   "outputs": [
    {
     "name": "stdout",
     "output_type": "stream",
     "text": [
      "donner un entier positifs6.3\n",
      "votre valeur n'est pas un entier positif\n"
     ]
    }
   ],
   "source": [
    "try:\n",
    "    a= int(input(\"donner un entier positifs\"))\n",
    "    if a > 0:\n",
    "        res = 1\n",
    "        for i in range(a):\n",
    "            res=res * (i+1)\n",
    "        print (\"factorielle de \",a,\" = \", res)\n",
    "    elif a == 0 :\n",
    "        print(\"factorielle de \",a,\" = 1\")\n",
    "    else :\n",
    "        print (\"votre entier nest pas positifs\")\n",
    "except:\n",
    "    print(\"votre valeur n'est pas un entier positif\")"
   ]
  },
  {
   "cell_type": "markdown",
   "metadata": {},
   "source": [
    "# Question 3"
   ]
  },
  {
   "cell_type": "markdown",
   "metadata": {},
   "source": [
    "##### with a given integer number n, write a program to generate a dictionary that contains (i, i*i) such that is an integral number between 1 and n (both included) and then the program should print the dictionary Suppose the following input is supplied to the program: 8 then, the output should be:(1:2,2:4,3:9,4:16,5:25,6:36,7:49,8:64) "
   ]
  },
  {
   "cell_type": "code",
   "execution_count": 1,
   "metadata": {},
   "outputs": [
    {
     "name": "stdout",
     "output_type": "stream",
     "text": [
      "donner un entier 6\n",
      "dict_items([(1, 2), (2, 4), (3, 6), (4, 8), (5, 10), (6, 12)])\n"
     ]
    }
   ],
   "source": [
    "try:\n",
    "    x = int(input(\"donner un entier \"))\n",
    "    dect ={}\n",
    "    for i in range(x):\n",
    "        dect[i+1]= (i+1) * (1+1) ## i**2 mais le probléme est 1^2 = 1 n'est pas 2 \n",
    "    print(dect.items())\n",
    "except:\n",
    "    print (\"vérifier votre valeur\")"
   ]
  },
  {
   "cell_type": "markdown",
   "metadata": {},
   "source": [
    "# Question 4"
   ]
  },
  {
   "cell_type": "markdown",
   "metadata": {},
   "source": [
    "##### Given a non-epmty string and an int n, return a new string where the char at index n has been removed. The value of n will be a valid index of a char in the original string (i.e. n will be in the range 0..len(str)-1 inclusive).\n",
    "\n",
    "##### -missing_char(\"kitten\",1)->\"ktten\" for example here we remove \"i\" which is located in the index 1\n",
    "##### -missing_char(\"kitten\",0)->\"kittn\" here we romve \"k\" which is in the index 0"
   ]
  },
  {
   "cell_type": "code",
   "execution_count": null,
   "metadata": {},
   "outputs": [],
   "source": [
    "try:\n",
    "    ch=str(input(\"donner votre chaine \"))\n",
    "    x=int(input(\"donner in entier \"))\n",
    "    if x > 0 and x <= len(ch):\n",
    "        print(ch.replace(ch[x],''))\n",
    "    else:\n",
    "        print(\"votre valeur n'est pas valide\")\n",
    "except:\n",
    "    print(\"verifer vous donnée\")"
   ]
  },
  {
   "cell_type": "markdown",
   "metadata": {},
   "source": [
    "# Question 5"
   ]
  },
  {
   "cell_type": "markdown",
   "metadata": {},
   "source": [
    "##### write a NumPy program to convert a NumPy array into a Python list structure \n",
    "##### Expected Output:\n",
    "##### Original array elements: [[0 1] [2 3] [4 5]]\n",
    "##### Array to list: [[0 1] [2 3] [4 5]]\n",
    "#### Hint: we can use the to_list() function to ensure the conversion"
   ]
  },
  {
   "cell_type": "code",
   "execution_count": 35,
   "metadata": {},
   "outputs": [
    {
     "name": "stdout",
     "output_type": "stream",
     "text": [
      "[[0, 1], [2, 3], [4, 5]]\n"
     ]
    }
   ],
   "source": [
    "import numpy as np\n",
    "NP = np.array(((0,1),(2,3),(4,5)))\n",
    "l = NP.tolist()\n",
    "print(l)"
   ]
  },
  {
   "cell_type": "markdown",
   "metadata": {},
   "source": [
    "# Question 6"
   ]
  },
  {
   "cell_type": "markdown",
   "metadata": {},
   "source": [
    "##### wirte a NumPy program to compute the covariance matrix of tow given arrays \n",
    "##### Original array1: [0 1 2]\n",
    "##### Original arrat2: [2 1 0]\n",
    "##### Covariance matrix of the said arrays [[1,-1] [-1,1]]"
   ]
  },
  {
   "cell_type": "code",
   "execution_count": 41,
   "metadata": {},
   "outputs": [
    {
     "name": "stdout",
     "output_type": "stream",
     "text": [
      "Matrice de covariance est : [[ 1. -1.]\n",
      " [-1.  1.]]\n"
     ]
    }
   ],
   "source": [
    "import numpy as np\n",
    "original1= np.array([0, 1, 2])\n",
    "original2= np.array([2, 1, 0])\n",
    "print(\"Matrice de covariance est :\", np.cov(original1,original2))"
   ]
  },
  {
   "cell_type": "markdown",
   "metadata": {},
   "source": [
    "# Question 7"
   ]
  },
  {
   "cell_type": "markdown",
   "metadata": {},
   "source": [
    "##### Write a program that calculates and prints the value according to the given formula Q= Square root of[(2 * C *D)/H] \n",
    "##### Following are the fixed values of C and H: C is 50. H is 30\n",
    "##### D is the variable whose values should be input to your program in a comma-separted sequence (that means Dcontains more than value)\n",
    "##### Example Let's assumme the following comma separted input sequence is given to the program: 100,150,180 The output of the program should be: 18,22,24\n",
    "##### To more understand we will obtain a result for each value of D: Q1= Squere root of [2 * C *100)/H] = 18, Q2=Square root of[(2*C*150)/H] = 22 and Q3 = Square root of [2*C*180)/H] = 24\n",
    "#### Hints if the output recelved is in decimal from, it should be rounded off to its nearest value (for example, if the output received is 26.0, it should be printed as 26) in case of input data being supplied to the question be assumed to be console input"
   ]
  },
  {
   "cell_type": "code",
   "execution_count": 96,
   "metadata": {},
   "outputs": [
    {
     "name": "stdout",
     "output_type": "stream",
     "text": [
      "donner trois valeur séparée par des virgules -2,0,8\n",
      "verifier voter valeur\n"
     ]
    }
   ],
   "source": [
    "from math import sqrt\n",
    "try:\n",
    "    ch1 = str(input(\"donner trois valeur séparée par des virgules \"))\n",
    "    d=ch1.split(\",\")\n",
    "    for i in range(len(d)):\n",
    "        print(round(sqrt((2 * 50 * int(d[i]))/30)))\n",
    "except:\n",
    "    print(\"verifier voter valeur\")\n"
   ]
  },
  {
   "cell_type": "code",
   "execution_count": null,
   "metadata": {},
   "outputs": [],
   "source": []
  },
  {
   "cell_type": "code",
   "execution_count": null,
   "metadata": {},
   "outputs": [],
   "source": []
  }
 ],
 "metadata": {
  "kernelspec": {
   "display_name": "Python 3",
   "language": "python",
   "name": "python3"
  },
  "language_info": {
   "codemirror_mode": {
    "name": "ipython",
    "version": 3
   },
   "file_extension": ".py",
   "mimetype": "text/x-python",
   "name": "python",
   "nbconvert_exporter": "python",
   "pygments_lexer": "ipython3",
   "version": "3.8.5"
  }
 },
 "nbformat": 4,
 "nbformat_minor": 4
}
